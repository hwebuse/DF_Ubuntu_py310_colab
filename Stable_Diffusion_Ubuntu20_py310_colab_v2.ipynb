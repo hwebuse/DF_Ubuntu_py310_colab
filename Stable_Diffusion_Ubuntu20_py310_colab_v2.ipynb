{
  "nbformat": 4,
  "nbformat_minor": 0,
  "metadata": {
    "colab": {
      "provenance": [],
      "private_outputs": true
    },
    "kernelspec": {
      "name": "python3",
      "display_name": "Python 3"
    },
    "language_info": {
      "name": "python"
    },
    "gpuClass": "standard",
    "accelerator": "GPU"
  },
  "cells": [
    {
      "cell_type": "code",
      "source": [
        "#@title ## 1.1 操作系统环境 { display-mode: \"form\" }\n",
        "!nvidia-smi # 文件/笔记本设置/GPU开启\n",
        "!sudo apt-get update\n",
        "!sudo apt install build-essential zlib1g-dev libncurses5-dev libgdbm-dev libnss3-dev libssl-dev libreadline-dev libffi-dev wget\n",
        "!sudo apt install aria2"
      ],
      "metadata": {
        "id": "gst15EuV4TF2"
      },
      "execution_count": null,
      "outputs": []
    },
    {
      "cell_type": "code",
      "source": [
        "#@title ## 1.2 下载已经编译好的版本，ubuntu 20，Colab环境\n",
        "%cd /content\n",
        "!wget https://github.com/lymanzhao/DF_Ubuntu_py310_colab/releases/download/1.0/Python-3.10.9.tar.gz\n",
        "#!rm -rf Python-3.10.10\n",
        "#!mkdir Python-3.10.10\n",
        "!tar -x Python-3.10.9 -zxvf Python-3.10.9.tar.gz\n"
      ],
      "metadata": {
        "id": "3sIs70t8PmuK"
      },
      "execution_count": null,
      "outputs": []
    },
    {
      "cell_type": "code",
      "source": [
        "# #@title ## [可选]1.2 Python310源码编译 { display-mode: \"form\" }\n",
        "# !wget https://www.python.org/ftp/python/3.10.9/Python-3.10.9.tgz\n",
        "# !tar -xf Python-3.10.9.tgz\n",
        "# %cd Python-3.10.9/\n",
        "# !./configure --enable-optimizations\n",
        "# !make -j 8\n",
        "# # 压缩源码，上传到github\n",
        "# %cd /content\n",
        "# !tar -zcvf Python-3.10.9.tar.gz Python-3.10.9"
      ],
      "metadata": {
        "id": "ZMsg-_FgOEqr"
      },
      "execution_count": null,
      "outputs": []
    },
    {
      "cell_type": "code",
      "source": [
        "#@title ## 1.3 Python310环境配置 { display-mode: \"form\" }\n",
        "\n",
        "%cd /content/Python-3.10.9\n",
        "!sudo make altinstall\n",
        "\n",
        "!which python3\n",
        "!which python3.10\n",
        "!sudo update-alternatives --install /usr/bin/python3 python3 /usr/bin/python3.8 1\n",
        "!sudo update-alternatives --install /usr/bin/python3 python3 /usr/local/bin/python3.10 2\n",
        "#!sudo update-alternatives --config python3\n",
        "!sudo update-alternatives  --set python3 /usr/local/bin/python3.10\n",
        "# 选择2使用Python 310版本\n",
        "!python -V\n",
        "!curl https://bootstrap.pypa.io/get-pip.py -o get-pip.py\n",
        "!python3 get-pip.py"
      ],
      "metadata": {
        "id": "aRIiIDw45SOs"
      },
      "execution_count": null,
      "outputs": []
    },
    {
      "cell_type": "code",
      "source": [
        "#@title ## 2.1 下载安装webui { display-mode: \"form\" }\n",
        "%cd /content\n",
        "!git clone https://github.com/AUTOMATIC1111/stable-diffusion-webui.git\n",
        "%cd /content/stable-diffusion-webui\n",
        "!git pull\n",
        "!COMMANDLINE_ARGS=\"--exit\" REQS_FILE=\"requirements.txt\" python launch.py\n"
      ],
      "metadata": {
        "id": "JZnASWq_Ou4T"
      },
      "execution_count": null,
      "outputs": []
    },
    {
      "cell_type": "code",
      "source": [
        "#@title ## 2.2 下载插件{ display-mode: \"form\" }\n",
        "%cd /content/stable-diffusion-webui\n",
        "!wget -N https://raw.githubusercontent.com/lymanzhao/DF_Ubuntu_py310_colab/main/SDextensionsDownload.py\n",
        "!python SDextensionsDownload.py"
      ],
      "metadata": {
        "id": "6M0AhP8gzEV1"
      },
      "execution_count": null,
      "outputs": []
    },
    {
      "cell_type": "code",
      "source": [
        "#@title ## 2.3 下载模型{ display-mode: \"form\" }\n",
        "%cd /content/stable-diffusion-webui\n",
        "\n",
        "!mkdir -p /content/stable-diffusion-webui/models/Lora\n",
        "!wget -N https://raw.githubusercontent.com/lymanzhao/DF_Ubuntu_py310_colab/main/SDModelDownload.py\n",
        "!python SDModelDownload.py\n"
      ],
      "metadata": {
        "id": "FkTA-omHGlk_"
      },
      "execution_count": null,
      "outputs": []
    },
    {
      "cell_type": "code",
      "source": [
        "#@title # 3 运行\n",
        "%cd /content/stable-diffusion-webui\n",
        "!hostname -I\n",
        "#!COMMANDLINE_ARGS=\"--xformers --deepdanbooru --share --gradio-debug --gradio-auth zyl:2023\" REQS_FILE=\"requirements.txt\" python launch.py\n",
        "!COMMANDLINE_ARGS=\"--xformers --deepdanbooru --share --gradio-debug\" REQS_FILE=\"requirements.txt\" python launch.py"
      ],
      "metadata": {
        "id": "ivRg827YUdyK"
      },
      "execution_count": null,
      "outputs": []
    }
  ]
}